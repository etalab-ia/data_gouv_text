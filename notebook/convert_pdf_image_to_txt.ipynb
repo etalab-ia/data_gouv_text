{
 "cells": [
  {
   "cell_type": "code",
   "execution_count": 1,
   "metadata": {},
   "outputs": [],
   "source": [
    "import ocrmypdf\n",
    "import pandas as pd\n",
    "import pyocr.builders\n",
    "from pdf2image import convert_from_path\n",
    "import tempfile"
   ]
  },
  {
   "cell_type": "code",
   "execution_count": null,
   "metadata": {},
   "outputs": [],
   "source": [
    "#P = pdfbox.PDFBox()\n",
    "TOOL = pyocr.get_available_tools()[0]\n",
    "BUILDER = pyocr.builders.TextBuilder()\n",
    "\n",
    "\n",
    "def pdf2image(doc_path):\n",
    "    with tempfile.TemporaryDirectory() as path:\n",
    "        print(f\"Transforming file {doc_path} to image\")\n",
    "        images_from_path = convert_from_path(doc_path, output_folder=path)\n",
    "    return images_from_path\n",
    "\n",
    "\n",
    "def ocr_pdf(doc_path):\n",
    "    try:\n",
    "        images = pdf2image(doc_path)\n",
    "        txt = \"\"\n",
    "        for i, img in enumerate(images):\n",
    "            img = img.convert('L')\n",
    "            print(f\"\\tOCRizing image {i} of file {doc_path}.\")\n",
    "            txt += TOOL.image_to_string(img, lang=\"fra\", builder=BUILDER) + \"\\n\\n\"\n",
    "        return txt\n",
    "    except Exception as e:\n",
    "        print(f\"Could not OCRize file {doc_path}: {e}\")"
   ]
  },
  {
   "cell_type": "code",
   "execution_count": 23,
   "metadata": {},
   "outputs": [],
   "source": [
    "folder = \"../output/Region_Occitanie__Pyrenees_Mediterranee/\"\n",
    "input_pdf = folder + '5cf8583d06e3e710b1c3eff8--309d9614-8509-4661-8b7a-dc75ee2b9f92.pdf'"
   ]
  },
  {
   "cell_type": "code",
   "execution_count": 24,
   "metadata": {},
   "outputs": [],
   "source": [
    "output_pdf = input_pdf[:-4] + \"_ocr.pdf\"\n",
    "output_txt = input_pdf[:-4] + \"_ocr.txt\"\n",
    "output_ocr_txt = input_pdf[:-4] + \"_pyocr.txt\""
   ]
  },
  {
   "cell_type": "code",
   "execution_count": 25,
   "metadata": {},
   "outputs": [
    {
     "data": {
      "text/plain": [
       "'../output/Region_Occitanie__Pyrenees_Mediterranee/5cf8583d06e3e710b1c3eff8--309d9614-8509-4661-8b7a-dc75ee2b9f92_pyocr.txt'"
      ]
     },
     "execution_count": 25,
     "metadata": {},
     "output_type": "execute_result"
    }
   ],
   "source": [
    "output_ocr_txt"
   ]
  },
  {
   "cell_type": "code",
   "execution_count": null,
   "metadata": {},
   "outputs": [
    {
     "name": "stderr",
     "output_type": "stream",
     "text": [
      "Scanning contents: 100%|██████████| 1/1 [00:00<00:00,  1.97page/s]\n",
      "OCR:   0%|          | 0.0/1.0 [00:00<?, ?page/s]"
     ]
    }
   ],
   "source": [
    "ocrmypdf.ocr(input_pdf, output_pdf, sidecar=output_txt)"
   ]
  },
  {
   "cell_type": "code",
   "execution_count": 18,
   "metadata": {},
   "outputs": [
    {
     "name": "stdout",
     "output_type": "stream",
     "text": [
      "Transforming file ../output_image/CORBION/5b3db70288ee38629c1dd2c8--828dc1e6-7ce7-4c76-9590-1509508ad1d3_ocr.pdf to image\n",
      "\tOCRizing image 0 of file ../output_image/CORBION/5b3db70288ee38629c1dd2c8--828dc1e6-7ce7-4c76-9590-1509508ad1d3_ocr.pdf.\n",
      "\tOCRizing image 1 of file ../output_image/CORBION/5b3db70288ee38629c1dd2c8--828dc1e6-7ce7-4c76-9590-1509508ad1d3_ocr.pdf.\n",
      "\tOCRizing image 2 of file ../output_image/CORBION/5b3db70288ee38629c1dd2c8--828dc1e6-7ce7-4c76-9590-1509508ad1d3_ocr.pdf.\n",
      "\tOCRizing image 3 of file ../output_image/CORBION/5b3db70288ee38629c1dd2c8--828dc1e6-7ce7-4c76-9590-1509508ad1d3_ocr.pdf.\n",
      "\tOCRizing image 4 of file ../output_image/CORBION/5b3db70288ee38629c1dd2c8--828dc1e6-7ce7-4c76-9590-1509508ad1d3_ocr.pdf.\n",
      "\tOCRizing image 5 of file ../output_image/CORBION/5b3db70288ee38629c1dd2c8--828dc1e6-7ce7-4c76-9590-1509508ad1d3_ocr.pdf.\n",
      "\tOCRizing image 6 of file ../output_image/CORBION/5b3db70288ee38629c1dd2c8--828dc1e6-7ce7-4c76-9590-1509508ad1d3_ocr.pdf.\n",
      "\tOCRizing image 7 of file ../output_image/CORBION/5b3db70288ee38629c1dd2c8--828dc1e6-7ce7-4c76-9590-1509508ad1d3_ocr.pdf.\n"
     ]
    }
   ],
   "source": [
    "ocr_txt = ocr_pdf(input_pdf)\n",
    "with open(output_ocr_txt, \"w\") as filo:\n",
    "    filo.write(ocr_txt)"
   ]
  },
  {
   "cell_type": "code",
   "execution_count": null,
   "metadata": {},
   "outputs": [],
   "source": []
  }
 ],
 "metadata": {
  "kernelspec": {
   "display_name": "data_gouv_text",
   "language": "python",
   "name": "data_gouv_text"
  },
  "language_info": {
   "codemirror_mode": {
    "name": "ipython",
    "version": 3
   },
   "file_extension": ".py",
   "mimetype": "text/x-python",
   "name": "python",
   "nbconvert_exporter": "python",
   "pygments_lexer": "ipython3",
   "version": "3.6.9"
  }
 },
 "nbformat": 4,
 "nbformat_minor": 4
}
