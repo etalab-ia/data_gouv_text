{
 "cells": [
  {
   "cell_type": "code",
   "execution_count": 1,
   "metadata": {},
   "outputs": [],
   "source": [
    "import ocrmypdf\n",
    "import pandas as pd\n",
    "import pyocr.builders\n",
    "from pdf2image import convert_from_path\n",
    "import tempfile"
   ]
  },
  {
   "cell_type": "code",
   "execution_count": null,
   "metadata": {},
   "outputs": [],
   "source": [
    "#P = pdfbox.PDFBox()\n",
    "TOOL = pyocr.get_available_tools()[0]\n",
    "BUILDER = pyocr.builders.TextBuilder()\n",
    "\n",
    "\n",
    "def pdf2image(doc_path):\n",
    "    with tempfile.TemporaryDirectory() as path:\n",
    "        print(f\"Transforming file {doc_path} to image\")\n",
    "        images_from_path = convert_from_path(doc_path, output_folder=path)\n",
    "    return images_from_path\n",
    "\n",
    "\n",
    "def ocr_pdf(doc_path):\n",
    "    try:\n",
    "        images = pdf2image(doc_path)\n",
    "        txt = \"\"\n",
    "        for i, img in enumerate(images):\n",
    "            img = img.convert('L')\n",
    "            print(f\"\\tOCRizing image {i} of file {doc_path}.\")\n",
    "            txt += TOOL.image_to_string(img, lang=\"fra\", builder=BUILDER) + \"\\n\\n\"\n",
    "        return txt\n",
    "    except Exception as e:\n",
    "        print(f\"Could not OCRize file {doc_path}: {e}\")"
   ]
  },
  {
   "cell_type": "code",
   "execution_count": 40,
   "metadata": {},
   "outputs": [],
   "source": [
    "folder = \"../output/Les_Lilas/\"\n",
    "input_pdf = folder + '5d25a06a634f412b11afa4d2--0ab15982-a546-42d8-a1e0-b30a2e95c349.pdf'"
   ]
  },
  {
   "cell_type": "code",
   "execution_count": 41,
   "metadata": {},
   "outputs": [],
   "source": [
    "output_pdf = input_pdf[:-4] + \"_ocr.pdf\"\n",
    "output_txt = input_pdf[:-4] + \"_ocr.txt\"\n",
    "output_ocr_txt = input_pdf[:-4] + \"_pyocr.txt\""
   ]
  },
  {
   "cell_type": "code",
   "execution_count": 44,
   "metadata": {},
   "outputs": [
    {
     "ename": "TypeError",
     "evalue": "ocr() missing 1 required positional argument: 'output_file'",
     "output_type": "error",
     "traceback": [
      "\u001b[0;31m---------------------------------------------------------------------------\u001b[0m",
      "\u001b[0;31mTypeError\u001b[0m                                 Traceback (most recent call last)",
      "\u001b[0;32m<ipython-input-44-e5487188a05c>\u001b[0m in \u001b[0;36m<module>\u001b[0;34m\u001b[0m\n\u001b[0;32m----> 1\u001b[0;31m \u001b[0mocrmypdf\u001b[0m\u001b[0;34m.\u001b[0m\u001b[0mocr\u001b[0m\u001b[0;34m(\u001b[0m\u001b[0minput_pdf\u001b[0m\u001b[0;34m,\u001b[0m \u001b[0msidecar\u001b[0m\u001b[0;34m=\u001b[0m\u001b[0moutput_txt\u001b[0m\u001b[0;34m)\u001b[0m\u001b[0;34m\u001b[0m\u001b[0;34m\u001b[0m\u001b[0m\n\u001b[0m",
      "\u001b[0;31mTypeError\u001b[0m: ocr() missing 1 required positional argument: 'output_file'"
     ]
    }
   ],
   "source": [
    "ocrmypdf.ocr(input_pdf, output_pdf, sidecar=output_txt)"
   ]
  },
  {
   "cell_type": "code",
   "execution_count": 37,
   "metadata": {},
   "outputs": [
    {
     "name": "stdout",
     "output_type": "stream",
     "text": [
      "Transforming file ../output/Les_Lilas/5d258de3634f416f6597064d--364ecae9-2fa3-4071-8244-aa9db7a81ecf.pdf to image\n",
      "\tOCRizing image 0 of file ../output/Les_Lilas/5d258de3634f416f6597064d--364ecae9-2fa3-4071-8244-aa9db7a81ecf.pdf.\n",
      "\tOCRizing image 1 of file ../output/Les_Lilas/5d258de3634f416f6597064d--364ecae9-2fa3-4071-8244-aa9db7a81ecf.pdf.\n",
      "Could not OCRize file ../output/Les_Lilas/5d258de3634f416f6597064d--364ecae9-2fa3-4071-8244-aa9db7a81ecf.pdf: (-11, b'Tesseract Open Source OCR Engine v4.0.0-beta.1 with Leptonica\\ncontains_unichar_id(unichar_id):Error:Assert failed:in file ../ccutil/unicharset.h, line 513\\n')\n"
     ]
    },
    {
     "ename": "TypeError",
     "evalue": "write() argument must be str, not None",
     "output_type": "error",
     "traceback": [
      "\u001b[0;31m---------------------------------------------------------------------------\u001b[0m",
      "\u001b[0;31mTypeError\u001b[0m                                 Traceback (most recent call last)",
      "\u001b[0;32m<ipython-input-37-8562b861a54e>\u001b[0m in \u001b[0;36m<module>\u001b[0;34m\u001b[0m\n\u001b[1;32m      1\u001b[0m \u001b[0mocr_txt\u001b[0m \u001b[0;34m=\u001b[0m \u001b[0mocr_pdf\u001b[0m\u001b[0;34m(\u001b[0m\u001b[0minput_pdf\u001b[0m\u001b[0;34m)\u001b[0m\u001b[0;34m\u001b[0m\u001b[0;34m\u001b[0m\u001b[0m\n\u001b[1;32m      2\u001b[0m \u001b[0;32mwith\u001b[0m \u001b[0mopen\u001b[0m\u001b[0;34m(\u001b[0m\u001b[0moutput_ocr_txt\u001b[0m\u001b[0;34m,\u001b[0m \u001b[0;34m\"w\"\u001b[0m\u001b[0;34m)\u001b[0m \u001b[0;32mas\u001b[0m \u001b[0mfilo\u001b[0m\u001b[0;34m:\u001b[0m\u001b[0;34m\u001b[0m\u001b[0;34m\u001b[0m\u001b[0m\n\u001b[0;32m----> 3\u001b[0;31m     \u001b[0mfilo\u001b[0m\u001b[0;34m.\u001b[0m\u001b[0mwrite\u001b[0m\u001b[0;34m(\u001b[0m\u001b[0mocr_txt\u001b[0m\u001b[0;34m)\u001b[0m\u001b[0;34m\u001b[0m\u001b[0;34m\u001b[0m\u001b[0m\n\u001b[0m",
      "\u001b[0;31mTypeError\u001b[0m: write() argument must be str, not None"
     ]
    }
   ],
   "source": [
    "ocr_txt = ocr_pdf(input_pdf)\n",
    "with open(output_ocr_txt, \"w\") as filo:\n",
    "    filo.write(ocr_txt)"
   ]
  },
  {
   "cell_type": "code",
   "execution_count": 38,
   "metadata": {},
   "outputs": [
    {
     "name": "stdout",
     "output_type": "stream",
     "text": [
      "Transforming file ../output/Les_Lilas/5d258de3634f416f6597064d--364ecae9-2fa3-4071-8244-aa9db7a81ecf.pdf to image\n",
      "\tOCRizing image 0 of file ../output/Les_Lilas/5d258de3634f416f6597064d--364ecae9-2fa3-4071-8244-aa9db7a81ecf.pdf.\n",
      "\tOCRizing image 1 of file ../output/Les_Lilas/5d258de3634f416f6597064d--364ecae9-2fa3-4071-8244-aa9db7a81ecf.pdf.\n",
      "Could not OCRize file ../output/Les_Lilas/5d258de3634f416f6597064d--364ecae9-2fa3-4071-8244-aa9db7a81ecf.pdf: (-11, b'Tesseract Open Source OCR Engine v4.0.0-beta.1 with Leptonica\\ncontains_unichar_id(unichar_id):Error:Assert failed:in file ../ccutil/unicharset.h, line 513\\n')\n"
     ]
    }
   ],
   "source": [
    "ocr_txt = ocr_pdf(input_pdf)"
   ]
  },
  {
   "cell_type": "code",
   "execution_count": null,
   "metadata": {},
   "outputs": [],
   "source": []
  }
 ],
 "metadata": {
  "kernelspec": {
   "display_name": "data_gouv_text",
   "language": "python",
   "name": "data_gouv_text"
  },
  "language_info": {
   "codemirror_mode": {
    "name": "ipython",
    "version": 3
   },
   "file_extension": ".py",
   "mimetype": "text/x-python",
   "name": "python",
   "nbconvert_exporter": "python",
   "pygments_lexer": "ipython3",
   "version": "3.6.9"
  }
 },
 "nbformat": 4,
 "nbformat_minor": 4
}
